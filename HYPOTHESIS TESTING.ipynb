{
  "nbformat": 4,
  "nbformat_minor": 0,
  "metadata": {
    "colab": {
      "provenance": []
    },
    "kernelspec": {
      "name": "python3",
      "display_name": "Python 3"
    },
    "language_info": {
      "name": "python"
    }
  },
  "cells": [
    {
      "cell_type": "markdown",
      "source": [
        "# **State the Hypotheses statement**"
      ],
      "metadata": {
        "id": "f9SCqzuUYx2t"
      }
    },
    {
      "cell_type": "markdown",
      "source": [
        "Null Hypothesis (H0): There is no significant difference between the two groups.\n",
        "\n",
        "Alternative Hypothesis (H1): There is a significant difference between the two groups"
      ],
      "metadata": {
        "id": "a2BFPbR1Y9vV"
      }
    },
    {
      "cell_type": "markdown",
      "source": [
        "# **Calculate the Test Statistic**"
      ],
      "metadata": {
        "id": "1zC2UJTxZOSP"
      }
    },
    {
      "cell_type": "code",
      "source": [
        "x_bar = 3050\n",
        "mu = 4000\n",
        "n = 25\n",
        "sigma = 125"
      ],
      "metadata": {
        "id": "cPSltdmTZGSk"
      },
      "execution_count": 1,
      "outputs": []
    },
    {
      "cell_type": "code",
      "source": [
        "import math\n",
        "Zclac = (x_bar-mu)/(sigma/math.sqrt(n)) # Test statistic formula\n",
        "print(\"test statistic value :\",Zclac)"
      ],
      "metadata": {
        "colab": {
          "base_uri": "https://localhost:8080/"
        },
        "id": "A9GeTAADZhj6",
        "outputId": "75dc4141-1b06-4f90-cdb2-082ee9721dd6"
      },
      "execution_count": 3,
      "outputs": [
        {
          "output_type": "stream",
          "name": "stdout",
          "text": [
            "test statistic value : -38.0\n"
          ]
        }
      ]
    },
    {
      "cell_type": "markdown",
      "source": [
        "# **Determine the Critical Value**"
      ],
      "metadata": {
        "id": "-7PwX7uGbI5t"
      }
    },
    {
      "cell_type": "code",
      "source": [
        "from scipy.stats import norm\n",
        "import numpy as np\n",
        "alph = 0.05\n",
        "Z_critical = norm.ppf(1-0.05)  # ppf is  Percent-Point Function\n",
        "Z_cr = np.round(Z_critical,3)  # taken only after three decimals\n",
        "print(\"Critical Z_value :\",Z_cr)"
      ],
      "metadata": {
        "colab": {
          "base_uri": "https://localhost:8080/"
        },
        "id": "3DbSmYPrZl9J",
        "outputId": "40b351c2-32fe-4ee5-81e5-d8fddca0d1e0"
      },
      "execution_count": 5,
      "outputs": [
        {
          "output_type": "stream",
          "name": "stdout",
          "text": [
            "Critical Z_value : 1.645\n"
          ]
        }
      ]
    },
    {
      "cell_type": "markdown",
      "source": [
        "the critical Z-value for a one-tailed test at a 5% significance level (α = 0.05) is approximately 1.645."
      ],
      "metadata": {
        "id": "5ixnDqg7Z1B7"
      }
    },
    {
      "cell_type": "markdown",
      "source": [
        "# **Make a Decision**"
      ],
      "metadata": {
        "id": "XagCG_BHbSEn"
      }
    },
    {
      "cell_type": "markdown",
      "source": [
        "The test statistic we calculated is -38.\n",
        "\n",
        "The critical value for a one-tailed test at alph = 0.05 critical z_value = 1.645.\n",
        "\n",
        "Since the test statistic -38 is much less than 1.645 (-38<1.645), it is far in the left tail of the normal distribution.\n",
        "\n",
        "The test statistic (-38) is less than the critical value (1.645), so we fail to reject the null hypothesis.\n",
        "\n",
        "Ho is rejected and H1 is accepted"
      ],
      "metadata": {
        "id": "fuRwVLvzbZN3"
      }
    },
    {
      "cell_type": "markdown",
      "source": [
        "# **Conclusion**"
      ],
      "metadata": {
        "id": "S3XS4S1kbefh"
      }
    },
    {
      "cell_type": "markdown",
      "source": [
        "There is not enough evidence to support the restaurant owners' claim that the weekly operating costs are higher than what the cost model suggests.\n",
        "\n",
        "The null hypothesis stated that the average weekly operating cost is 4,000 Rs, as per the cost model\n",
        "\n",
        "The alternative hypothesis suggested that the average cost was greater than 4,000 Rs.\n",
        "\n",
        "However, the test statistic (-38) was much smaller than the critical value (1.645), indicating that the sample mean of 3,050 Rs is significantly lower than the theoretical value of 4,000 Rs.\n",
        "\n",
        "Therefore, we fail to reject the null hypothesis, and there is insufficient statistical evidence to conclude that the operating costs are higher than the theoretical value of 4,000 Rs. The evidence does not support the restaurant owners' claim of increased operating costs\n"
      ],
      "metadata": {
        "id": "AyD3CmXwbngF"
      }
    }
  ]
}